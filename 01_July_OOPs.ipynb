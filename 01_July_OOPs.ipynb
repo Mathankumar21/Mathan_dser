{
 "cells": [
  {
   "cell_type": "raw",
   "id": "59123aa9-feaf-44d1-b248-08f228e6d700",
   "metadata": {},
   "source": [
    "1. What is the primary goal of Object-Oriented Programming (OOP)?\n",
    "\n",
    "Answer : The primary goal of Object-Oriented Programming is\n",
    "        1. Modularity and Reusablity\n",
    "        2. Encapsulation\n",
    "        3. Inheritance\n",
    "        4. Polymorphism\n",
    "        5. Abstraction\n",
    "\n"
   ]
  },
  {
   "cell_type": "raw",
   "id": "5de9919a-4ad2-4111-a9df-5b0db9ba8ba5",
   "metadata": {},
   "source": [
    "2. What is an object in Python?\n",
    "\n",
    "Answer : Object in Python is a fundamental object representing the data structure within the programming language. Object is everything in Python, simple data types like integers , strings and complex data types like list, dictionaries and classes. Objects have attributes and methods associated with them and interact with the other objects to perform actions.\n",
    "\n",
    "Ex : x = 10    \n",
    "     print (x)"
   ]
  },
  {
   "cell_type": "raw",
   "id": "127c566a-150c-45c3-b850-5b4000b673c9",
   "metadata": {},
   "source": [
    "3. What is a class in Python ?\n",
    "\n",
    "Answer : Class is a blueprint for creating objects. It allows you to define our own custom data types. A class defines a new data structure that can have attributes (data) and methods (functions) associated with it. Objects created from a class are instances of that class and inherit its attributes and behaviors.\n",
    "\n"
   ]
  },
  {
   "cell_type": "code",
   "execution_count": 2,
   "id": "5ede5170-bf95-4277-b381-715c1f0971c4",
   "metadata": {},
   "outputs": [],
   "source": [
    "class Person:\n",
    "    def __init__(self, name, age):\n",
    "        self.name = name\n",
    "        self.age = age\n",
    "        \n",
    "    def display_info(self):\n",
    "        print(f\"The name of a person is {self.name} and the age is {self.age}\")"
   ]
  },
  {
   "cell_type": "code",
   "execution_count": 4,
   "id": "b6962d24-c482-4cc8-b0cb-b194decbb944",
   "metadata": {},
   "outputs": [
    {
     "name": "stdout",
     "output_type": "stream",
     "text": [
      "The name of a person is Dhoni and the age is 42\n"
     ]
    }
   ],
   "source": [
    "person1 = Person(\"Dhoni\", 42)\n",
    "person1.display_info()"
   ]
  },
  {
   "cell_type": "raw",
   "id": "bddd1987-201f-4d08-a8e6-cd5981241b7f",
   "metadata": {},
   "source": [
    "4. What are attributes and methods in a class?\n",
    "\n",
    "Answer : Attributes are variables that belong to a class and define the data associated with objects created from that class. They can have different data types (e.g., integers, strings, lists, etc.). Attributes are defined within the class block but outside any methods.\n",
    "\n",
    "Methods are functions defined within a class that define the behavior or actions that objects of the class can perform. They can access and modify the attributes of the class and interact with other objects or classes.\n",
    "Methods are defined within the class block, similar to regular functions, but they operate on the object's data (i.e., attributes) and are associated with the class."
   ]
  },
  {
   "cell_type": "code",
   "execution_count": 5,
   "id": "8bf2f85f-f06e-44e2-b434-269f2e3edbc8",
   "metadata": {},
   "outputs": [],
   "source": [
    "class Car:\n",
    "    # Class attribute\n",
    "    wheels = 4\n",
    "\n",
    "    # Constructor method\n",
    "    def __init__(self, make, model):\n",
    "        # Object attributes\n",
    "        self.make = make\n",
    "        self.model = model\n",
    "\n",
    "    # Method to start the engine\n",
    "    def start_engine(self):\n",
    "        return \"Engine started!\""
   ]
  },
  {
   "cell_type": "code",
   "execution_count": 6,
   "id": "4bb66fb8-0773-4c35-91f9-fbf0e1891e45",
   "metadata": {},
   "outputs": [
    {
     "data": {
      "text/plain": [
       "'Engine started!'"
      ]
     },
     "execution_count": 6,
     "metadata": {},
     "output_type": "execute_result"
    }
   ],
   "source": [
    "car1 = Car(\"India\", \"BMW EV\")\n",
    "car1.start_engine()"
   ]
  },
  {
   "cell_type": "raw",
   "id": "6183ecb7-124a-49e2-bced-838cee831cfe",
   "metadata": {},
   "source": [
    "5. What is the difference between class variables and instance variables in Python?\n",
    "\n",
    "Answer : Class Variables:\n",
    "1. Class variables are defined at the class level. \n",
    "2. They are declared inside the class block but outside any methods and are accessed using the class name.\n",
    "3. Class variables are associated with the class itself, not with individual instances, and their values remain the    same across all objects of the class.\n",
    "4. Changes to class variables made through one object will affect all other objects of the same class.\n",
    "5. Class variables are useful for storing data that is common to all instances of the class.\n",
    "\n",
    "Instance Variables:\n",
    "\n",
    "1. Instance variables are specific to each instance (object) of the class and are created for each object.\n",
    "2. They are declared and initialized within the __init__ method (the constructor) of the class.\n",
    "3. Instance variables have different values for each object and do not affect the attributes of other instances of    the same class."
   ]
  },
  {
   "cell_type": "code",
   "execution_count": 8,
   "id": "583a769c-deac-46ed-880b-3edb9dde66d3",
   "metadata": {},
   "outputs": [
    {
     "name": "stdout",
     "output_type": "stream",
     "text": [
      "4\n",
      "4\n",
      "6\n",
      "6\n"
     ]
    }
   ],
   "source": [
    "class Car:\n",
    "    # Class variable\n",
    "    wheels = 4\n",
    "\n",
    "    # Constructor method\n",
    "    def __init__(self, make, model):\n",
    "        # Instance variables\n",
    "        self.make = make\n",
    "        self.model = model\n",
    "\n",
    "car1 = Car(\"Toyota\", \"Corolla\")\n",
    "car2 = Car(\"Honda\", \"Civic\")\n",
    "\n",
    "print(car1.wheels)  # Output: 4\n",
    "print(car2.wheels)  # Output: 4\n",
    "\n",
    "Car.wheels = 6  # Change class variable\n",
    "print(car1.wheels)  # Output: 6\n",
    "print(car2.wheels)  # Output: 6"
   ]
  },
  {
   "cell_type": "code",
   "execution_count": 7,
   "id": "aea0f204-0aca-403e-aa03-dd6e29c5e6f2",
   "metadata": {},
   "outputs": [
    {
     "name": "stdout",
     "output_type": "stream",
     "text": [
      "Toyota\n",
      "Honda\n"
     ]
    }
   ],
   "source": [
    "class Car:\n",
    "    # Class variable\n",
    "    wheels = 4\n",
    "\n",
    "    # Constructor method\n",
    "    def __init__(self, make, model):\n",
    "        # Instance variables\n",
    "        self.make = make\n",
    "        self.model = model\n",
    "\n",
    "car1 = Car(\"Toyota\", \"Corolla\")\n",
    "car2 = Car(\"Honda\", \"Civic\")\n",
    "\n",
    "print(car1.make)  # Output: \"Toyota\"\n",
    "print(car2.make)  # Output: \"Honda\""
   ]
  },
  {
   "cell_type": "raw",
   "id": "cadea43e-525a-4eb7-9d29-cfc1e36b50d1",
   "metadata": {},
   "source": [
    "6. What is the purpose of the self parameter in Python class methods?\n",
    "\n",
    "Answer : The self parameter serves as a reference to the instance (object) of the class on which the method is being called. It is to use the name self for this first parameter, although you can technically use any valid variable name. However, using self is recommended for clarity and consistency with Python conventions."
   ]
  },
  {
   "cell_type": "raw",
   "id": "3fbe6e22-3c54-4e5f-9b35-aecdaf7a9a90",
   "metadata": {},
   "source": [
    "7. For a library management system, you have to design the \"Book\" class with OOP\n",
    "principles in mind. The “Book” class will have following attributes:\n",
    "    a. title: Represents the title of the book.\n",
    "    b. author: Represents the author(s) of the book.\n",
    "    c. isbn: Represents the ISBN (International Standard Book Number) of the book.\n",
    "    d. publication_year: Represents the year of publication of the book.\n",
    "    e. available_copies: Represents the number of copies available for checkout.\n",
    "    \n",
    "The class will also include the following methods:\n",
    "    a. check_out(self): Decrements the available copies by one if there are copies\n",
    "        available for checkout.\n",
    "    b. return_book(self): Increments the available copies by one when a book is\n",
    "        returned.\n",
    "    c. display_book_info(self): Displays the information about the book, including its\n",
    "        attributes and the number of available copies.\n"
   ]
  },
  {
   "cell_type": "code",
   "execution_count": 10,
   "id": "99c55ec8-edb3-4e3d-be4e-ccf6ffb1f9d0",
   "metadata": {},
   "outputs": [
    {
     "name": "stdout",
     "output_type": "stream",
     "text": [
      "Book Information:\n",
      "Title: Python Crash Course\n",
      "Author(s): Eric Matthes\n",
      "ISBN: 978-1593276034\n",
      "Publication Year: 2015\n",
      "Available Copies: 3\n",
      "Book 'Python Crash Course' checked out successfully.\n",
      "Book Information:\n",
      "Title: Python Crash Course\n",
      "Author(s): Eric Matthes\n",
      "ISBN: 978-1593276034\n",
      "Publication Year: 2015\n",
      "Available Copies: 2\n",
      "Book 'Python Crash Course' returned successfully.\n",
      "Book Information:\n",
      "Title: Python Crash Course\n",
      "Author(s): Eric Matthes\n",
      "ISBN: 978-1593276034\n",
      "Publication Year: 2015\n",
      "Available Copies: 3\n",
      "Book Information:\n",
      "Title: Clean Code\n",
      "Author(s): Robert C. Martin\n",
      "ISBN: 978-0132350884\n",
      "Publication Year: 2008\n",
      "Available Copies: 5\n",
      "Book 'Clean Code' checked out successfully.\n",
      "Book Information:\n",
      "Title: Clean Code\n",
      "Author(s): Robert C. Martin\n",
      "ISBN: 978-0132350884\n",
      "Publication Year: 2008\n",
      "Available Copies: 4\n"
     ]
    }
   ],
   "source": [
    "class Book:\n",
    "    def __init__(self, title, author, isbn, publication_year, available_copies):\n",
    "        self.title = title\n",
    "        self.author = author\n",
    "        self.isbn = isbn\n",
    "        self.publication_year = publication_year\n",
    "        self.available_copies = available_copies\n",
    "\n",
    "    def check_out(self):\n",
    "        if self.available_copies > 0:\n",
    "            self.available_copies -= 1\n",
    "            print(f\"Book '{self.title}' checked out successfully.\")\n",
    "        else:\n",
    "            print(f\"Book '{self.title}' is currently not available for checkout.\")\n",
    "\n",
    "    def return_book(self):\n",
    "        self.available_copies += 1\n",
    "        print(f\"Book '{self.title}' returned successfully.\")\n",
    "\n",
    "    def display_book_info(self):\n",
    "        print(f\"Book Information:\")\n",
    "        print(f\"Title: {self.title}\")\n",
    "        print(f\"Author(s): {self.author}\")\n",
    "        print(f\"ISBN: {self.isbn}\")\n",
    "        print(f\"Publication Year: {self.publication_year}\")\n",
    "        print(f\"Available Copies: {self.available_copies}\")\n",
    "\n",
    "\n",
    "# Example usage:\n",
    "book1 = Book(\"Python Crash Course\", \"Eric Matthes\", \"978-1593276034\", 2015, 3)\n",
    "book2 = Book(\"Clean Code\", \"Robert C. Martin\", \"978-0132350884\", 2008, 5)\n",
    "\n",
    "book1.display_book_info()\n",
    "book1.check_out()\n",
    "book1.display_book_info()\n",
    "book1.return_book()\n",
    "book1.display_book_info()\n",
    "\n",
    "book2.display_book_info()\n",
    "book2.check_out()\n",
    "book2.display_book_info()"
   ]
  },
  {
   "cell_type": "raw",
   "id": "8de8b807-3956-4d5c-9bf6-d09e08ff647b",
   "metadata": {},
   "source": [
    "8. For a ticket booking system, you have to design the \"Ticket\" class with OOP\n",
    "principles in mind. The “Ticket” class should have the following attributes:\n",
    "    a. ticket_id: Represents the unique identifier for the ticket.\n",
    "    b. event_name: Represents the name of the event.\n",
    "    c. event_date: Represents the date of the event.\n",
    "    d. venue: Represents the venue of the event.\n",
    "    e. seat_number: Represents the seat number associated with the ticket.\n",
    "    f. price: Represents the price of the ticket.\n",
    "    g. is_reserved: Represents the reservation status of the ticket.\n",
    "\n",
    "The class also includes the following methods:\n",
    "    a. reserve_ticket(self): Marks the ticket as reserved if it is not already reserved.\n",
    "    b. cancel_reservation(self): Cancels the reservation of the ticket if it is already\n",
    "        reserved.\n",
    "    c. display_ticket_info(self): Displays the information about the ticket, including its\n",
    "        attributes and reservation status.\n"
   ]
  },
  {
   "cell_type": "code",
   "execution_count": 11,
   "id": "00aa4143-2070-4787-93c1-7483c3d9c184",
   "metadata": {},
   "outputs": [
    {
     "name": "stdout",
     "output_type": "stream",
     "text": [
      "Ticket Information:\n",
      "Ticket ID: 1\n",
      "Event Name: Concert\n",
      "Event Date: 2023-07-15\n",
      "Venue: Stadium\n",
      "Seat Number: A101\n",
      "Price: 100\n",
      "Reservation Status: Not Reserved\n",
      "Ticket 1 reserved successfully.\n",
      "Ticket Information:\n",
      "Ticket ID: 1\n",
      "Event Name: Concert\n",
      "Event Date: 2023-07-15\n",
      "Venue: Stadium\n",
      "Seat Number: A101\n",
      "Price: 100\n",
      "Reservation Status: Reserved\n",
      "Ticket 1 is already reserved.\n",
      "Reservation for ticket 1 is canceled.\n",
      "Ticket Information:\n",
      "Ticket ID: 1\n",
      "Event Name: Concert\n",
      "Event Date: 2023-07-15\n",
      "Venue: Stadium\n",
      "Seat Number: A101\n",
      "Price: 100\n",
      "Reservation Status: Not Reserved\n",
      "Ticket Information:\n",
      "Ticket ID: 2\n",
      "Event Name: Movie\n",
      "Event Date: 2023-07-20\n",
      "Venue: Cinema Hall\n",
      "Seat Number: B12\n",
      "Price: 50\n",
      "Reservation Status: Reserved\n",
      "Reservation for ticket 2 is canceled.\n",
      "Ticket Information:\n",
      "Ticket ID: 2\n",
      "Event Name: Movie\n",
      "Event Date: 2023-07-20\n",
      "Venue: Cinema Hall\n",
      "Seat Number: B12\n",
      "Price: 50\n",
      "Reservation Status: Not Reserved\n"
     ]
    }
   ],
   "source": [
    "class Ticket:\n",
    "    def __init__(self, ticket_id, event_name, event_date, venue, seat_number, price, is_reserved=False):\n",
    "        self.ticket_id = ticket_id\n",
    "        self.event_name = event_name\n",
    "        self.event_date = event_date\n",
    "        self.venue = venue\n",
    "        self.seat_number = seat_number\n",
    "        self.price = price\n",
    "        self.is_reserved = is_reserved\n",
    "\n",
    "    def reserve_ticket(self):\n",
    "        if not self.is_reserved:\n",
    "            self.is_reserved = True\n",
    "            print(f\"Ticket {self.ticket_id} reserved successfully.\")\n",
    "        else:\n",
    "            print(f\"Ticket {self.ticket_id} is already reserved.\")\n",
    "\n",
    "    def cancel_reservation(self):\n",
    "        if self.is_reserved:\n",
    "            self.is_reserved = False\n",
    "            print(f\"Reservation for ticket {self.ticket_id} is canceled.\")\n",
    "        else:\n",
    "            print(f\"Ticket {self.ticket_id} is not reserved.\")\n",
    "\n",
    "    def display_ticket_info(self):\n",
    "        print(f\"Ticket Information:\")\n",
    "        print(f\"Ticket ID: {self.ticket_id}\")\n",
    "        print(f\"Event Name: {self.event_name}\")\n",
    "        print(f\"Event Date: {self.event_date}\")\n",
    "        print(f\"Venue: {self.venue}\")\n",
    "        print(f\"Seat Number: {self.seat_number}\")\n",
    "        print(f\"Price: {self.price}\")\n",
    "        print(f\"Reservation Status: {'Reserved' if self.is_reserved else 'Not Reserved'}\")\n",
    "\n",
    "\n",
    "\n",
    "ticket1 = Ticket(1, \"Concert\", \"2023-07-15\", \"Stadium\", \"A101\", 100, False)\n",
    "ticket2 = Ticket(2, \"Movie\", \"2023-07-20\", \"Cinema Hall\", \"B12\", 50, True)\n",
    "\n",
    "ticket1.display_ticket_info()\n",
    "ticket1.reserve_ticket()\n",
    "ticket1.display_ticket_info()\n",
    "ticket1.reserve_ticket()\n",
    "ticket1.cancel_reservation()\n",
    "ticket1.display_ticket_info()\n",
    "\n",
    "ticket2.display_ticket_info()\n",
    "ticket2.cancel_reservation()\n",
    "ticket2.display_ticket_info()"
   ]
  },
  {
   "cell_type": "raw",
   "id": "3adf530d-ccb2-4510-a9e1-ea8a675834d9",
   "metadata": {},
   "source": [
    "9. You are creating a shopping cart for an e-commerce website. Using OOP to model\n",
    "the \"ShoppingCart\" functionality the class should contain following attributes and\n",
    "methods:\n",
    "    a. items: Represents the list of items in the shopping cart.\n",
    "\n",
    "The class also includes the following methods:\n",
    "    a. add_item(self, item): Adds an item to the shopping cart by appending it to the\n",
    "        list of items.\n",
    "    b. remove_item(self, item): Removes an item from the shopping cart if it exists in\n",
    "        the list.\n",
    "    c. view_cart(self): Displays the items currently present in the shopping cart.\n",
    "    d. clear_cart(self): Clears all items from the shopping cart by reassigning an\n",
    "        empty list to the items attribute"
   ]
  },
  {
   "cell_type": "code",
   "execution_count": 12,
   "id": "49152164-3276-429c-b502-ad008b81947c",
   "metadata": {},
   "outputs": [
    {
     "name": "stdout",
     "output_type": "stream",
     "text": [
      "Shirt added to the shopping cart.\n",
      "Shoes added to the shopping cart.\n",
      "Watch added to the shopping cart.\n",
      "Items in the shopping cart:\n",
      "- Shirt\n",
      "- Shoes\n",
      "- Watch\n",
      "Shoes removed from the shopping cart.\n",
      "Items in the shopping cart:\n",
      "- Shirt\n",
      "- Watch\n",
      "Pants is not in the shopping cart.\n",
      "Items in the shopping cart:\n",
      "- Shirt\n",
      "- Watch\n",
      "Shopping cart is cleared.\n",
      "The shopping cart is empty.\n"
     ]
    }
   ],
   "source": [
    "class ShoppingCart:\n",
    "    def __init__(self):\n",
    "        self.items = []\n",
    "\n",
    "    def add_item(self, item):\n",
    "        self.items.append(item)\n",
    "        print(f\"{item} added to the shopping cart.\")\n",
    "\n",
    "    def remove_item(self, item):\n",
    "        if item in self.items:\n",
    "            self.items.remove(item)\n",
    "            print(f\"{item} removed from the shopping cart.\")\n",
    "        else:\n",
    "            print(f\"{item} is not in the shopping cart.\")\n",
    "\n",
    "    def view_cart(self):\n",
    "        if not self.items:\n",
    "            print(\"The shopping cart is empty.\")\n",
    "        else:\n",
    "            print(\"Items in the shopping cart:\")\n",
    "            for item in self.items:\n",
    "                print(f\"- {item}\")\n",
    "\n",
    "    def clear_cart(self):\n",
    "        self.items = []\n",
    "        print(\"Shopping cart is cleared.\")\n",
    "\n",
    "\n",
    "# Example usage:\n",
    "cart = ShoppingCart()\n",
    "\n",
    "cart.add_item(\"Shirt\")\n",
    "cart.add_item(\"Shoes\")\n",
    "cart.add_item(\"Watch\")\n",
    "cart.view_cart()\n",
    "\n",
    "cart.remove_item(\"Shoes\")\n",
    "cart.view_cart()\n",
    "\n",
    "cart.remove_item(\"Pants\")  # Item not in the cart\n",
    "cart.view_cart()\n",
    "\n",
    "cart.clear_cart()\n",
    "cart.view_cart()"
   ]
  },
  {
   "cell_type": "raw",
   "id": "e6b48501-4a19-412b-accd-c95ef5133788",
   "metadata": {},
   "source": [
    "10. Imagine a school management system. You have to design the \"Student\" class using\n",
    "OOP concepts.The “Student” class has the following attributes:\n",
    "a. name: Represents the name of the student.\n",
    "b. age: Represents the age of the student.\n",
    "c. grade: Represents the grade or class of the student.\n",
    "d. student_id: Represents the unique identifier for the student.\n",
    "e. attendance: Represents the attendance record of the student.\n",
    "The class should also include the following methods:\n",
    "a. update_attendance(self, date, status): Updates the attendance record of the\n",
    "student for a given date with the provided status (e.g., present or absent).\n",
    "b. get_attendance(self): Returns the attendance record of the student.\n",
    "c. get_average_attendance(self): Calculates and returns the average\n",
    "attendance percentage of the student based on their attendance record."
   ]
  },
  {
   "cell_type": "code",
   "execution_count": 13,
   "id": "4464ca21-8454-45a1-a59f-a922400fc38c",
   "metadata": {},
   "outputs": [
    {
     "name": "stdout",
     "output_type": "stream",
     "text": [
      "Attendance for John Smith: {'2023-07-01': 'present', '2023-07-02': 'absent', '2023-07-03': 'present'}\n",
      "Average Attendance for John Smith: 66.66666666666666%\n"
     ]
    }
   ],
   "source": [
    "class Student:\n",
    "    def __init__(self, name, age, grade, student_id):\n",
    "        self.name = name\n",
    "        self.age = age\n",
    "        self.grade = grade\n",
    "        self.student_id = student_id\n",
    "        self.attendance = {}\n",
    "\n",
    "    def update_attendance(self, date, status):\n",
    "        self.attendance[date] = status\n",
    "\n",
    "    def get_attendance(self):\n",
    "        return self.attendance\n",
    "\n",
    "    def get_average_attendance(self):\n",
    "        total_days = len(self.attendance)\n",
    "        if total_days == 0:\n",
    "            return 0.0\n",
    "\n",
    "        present_days = sum(status == 'present' for status in self.attendance.values())\n",
    "        average_attendance = (present_days / total_days) * 100\n",
    "        return average_attendance\n",
    "\n",
    "\n",
    "# Example usage:\n",
    "student1 = Student(\"John Smith\", 15, \"10th Grade\", \"ST123\")\n",
    "student1.update_attendance(\"2023-07-01\", \"present\")\n",
    "student1.update_attendance(\"2023-07-02\", \"absent\")\n",
    "student1.update_attendance(\"2023-07-03\", \"present\")\n",
    "\n",
    "print(f\"Attendance for {student1.name}: {student1.get_attendance()}\")\n",
    "print(f\"Average Attendance for {student1.name}: {student1.get_average_attendance()}%\")"
   ]
  },
  {
   "cell_type": "code",
   "execution_count": null,
   "id": "98cd4b2c-6e83-4561-8e71-6e103f060ac2",
   "metadata": {},
   "outputs": [],
   "source": []
  }
 ],
 "metadata": {
  "kernelspec": {
   "display_name": "Python 3 (ipykernel)",
   "language": "python",
   "name": "python3"
  },
  "language_info": {
   "codemirror_mode": {
    "name": "ipython",
    "version": 3
   },
   "file_extension": ".py",
   "mimetype": "text/x-python",
   "name": "python",
   "nbconvert_exporter": "python",
   "pygments_lexer": "ipython3",
   "version": "3.10.6"
  }
 },
 "nbformat": 4,
 "nbformat_minor": 5
}
