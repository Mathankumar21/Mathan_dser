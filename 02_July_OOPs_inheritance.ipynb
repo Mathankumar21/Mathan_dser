{
 "cells": [
  {
   "cell_type": "raw",
   "id": "8ba6f3c6-392c-4906-a3a5-3daada29b5a2",
   "metadata": {},
   "source": [
    "1. Explain what inheritance is in object-oriented programming and why it is used\n",
    "\n",
    "Answer : Inheritance is a fundamental concept that allows a class to inherit properties from another class. Inheritance enables the creation of a hierarchical relationship between classes, where a subclass inherits the attributes and methods of its superclass and can also define its own unique attributes and methods."
   ]
  },
  {
   "cell_type": "code",
   "execution_count": 1,
   "id": "3bae48bd-9fe6-48e1-bcb7-10521b8b17e9",
   "metadata": {},
   "outputs": [
    {
     "name": "stdout",
     "output_type": "stream",
     "text": [
      "Dog\n",
      "Dog barks.\n"
     ]
    }
   ],
   "source": [
    "class Animal:\n",
    "    def __init__(self, species):\n",
    "        self.species = species\n",
    "\n",
    "    def make_sound(self):\n",
    "        print(\"Animal makes a sound.\")\n",
    "\n",
    "\n",
    "class Dog(Animal):\n",
    "    def __init__(self, breed):\n",
    "        super().__init__(\"Dog\")\n",
    "        self.breed = breed\n",
    "\n",
    "    def make_sound(self):\n",
    "        print(\"Dog barks.\")\n",
    "\n",
    "\n",
    "# Using inheritance\n",
    "dog = Dog(\"Golden Retriever\")\n",
    "print(dog.species)  \n",
    "dog.make_sound()  "
   ]
  },
  {
   "cell_type": "raw",
   "id": "8c5a518e-121c-47ee-a069-0025cb643a21",
   "metadata": {},
   "source": [
    "2. Discuss the concept of single inheritance and multiple inheritance, highlighting their\n",
    "differences and advantages.\n",
    "\n",
    "Answer :\n",
    "    Single Inheritance : \n",
    "    \n",
    "   1. Single inheritance allows a class to inherit from only one superclass. In other words, a subclass can have only one direct parent class.\n",
    "   2. In this type of inheritance, the subclass inherits all the attributes and methods of its single superclass.\n",
    "   3. The syntax for defining a single inheritance relationship is straightforward, as the subclass simply includes       the superclass name inside parentheses after its own class name.\n",
    "   \n",
    "   Multiple Inheritance : \n",
    "   \n",
    "   1. Multiple inheritance allows a class to inherit from multiple superclasses. In other words, a subclass can have multiple direct parent classes, and it inherits attributes and methods from all of them.\n",
    "   2. The syntax for defining multiple inheritance is slightly more complex, as the subclass includes multiple superclass names inside parentheses separated by commas."
   ]
  },
  {
   "cell_type": "code",
   "execution_count": 2,
   "id": "584f6212-e402-48b9-a713-70e92bd8ca3a",
   "metadata": {},
   "outputs": [
    {
     "name": "stdout",
     "output_type": "stream",
     "text": [
      "Dog barks.\n"
     ]
    }
   ],
   "source": [
    "class Animal:\n",
    "    def make_sound(self):\n",
    "        print(\"Animal makes a sound.\")\n",
    "\n",
    "\n",
    "class Dog(Animal):\n",
    "    def make_sound(self):\n",
    "        print(\"Dog barks.\")\n",
    "        \n",
    "# Using inheritance\n",
    "dog = Dog()\n",
    "dog.make_sound()         "
   ]
  },
  {
   "cell_type": "code",
   "execution_count": 4,
   "id": "716a4101-39ad-45c3-9560-06b17b301950",
   "metadata": {},
   "outputs": [
    {
     "name": "stdout",
     "output_type": "stream",
     "text": [
      "Bird Flies\n"
     ]
    }
   ],
   "source": [
    "class Animal:\n",
    "    def make_sound(self):\n",
    "        print(\"Animal makes a sound.\")\n",
    "\n",
    "\n",
    "class Bird:\n",
    "    def make_sound(self):\n",
    "        print(\"Bird chirps.\")\n",
    "\n",
    "\n",
    "class FlyingBird(Animal, Bird):\n",
    "    print(f\"Bird Flies\")"
   ]
  },
  {
   "cell_type": "raw",
   "id": "6299c8be-8ba2-487e-85a5-276cd5e27fac",
   "metadata": {},
   "source": [
    "3. Explain the terms \"base class\" and \"derived class\" in the context of inheritance.\n",
    "\n",
    "Answer : \n",
    "\n",
    "Base Class:\n",
    "1. A base class is a superclass or parent class from which other classes inherit attributes and methods.\n",
    "2. It serves as a blueprint for creating derived classes.\n",
    "3. The base class defines common attributes and behaviors that can be shared among multiple derived classes.\n",
    "\n",
    "\n",
    "Derived Class:\n",
    "\n",
    "1. A derived class is a subclass or child class, is a class that inherits attributes and methods from a base class.\n",
    "2. It is created by extending the base class and adding additional attributes and methods specific to the subclass.\n",
    "3. The derived class inherits all the attributes and methods of the base class and can override or extend them as needed."
   ]
  },
  {
   "cell_type": "raw",
   "id": "a919748b-3f29-43c3-87cf-66eeda30e857",
   "metadata": {},
   "source": [
    "4. What is the significance of the \"protected\" access modifier in inheritance? How does\n",
    "it differ from \"private\" and \"public\" modifiers?\n",
    "\n",
    "Answer : \n",
    "\n",
    "    Public Access Modifier:\n",
    "1. In Python, class members without any access modifier are considered public by default.\n",
    "2. Public members can be accessed from outside the class, and there are no restrictions on their visibility.\n",
    "\n",
    "    Protected Access Modifier:\n",
    "1. In Python, there is a naming convention to indicate private members by prefixing their names with a double underscore (__).\n",
    "2. Private members are not intended to be accessed from outside the class. However, they can still be accessed, but their names are \"mangled\" to prevent unintentional clashes with names in subclasses.\n",
    "3. Private members are used to enforce encapsulation and hide implementation details."
   ]
  },
  {
   "cell_type": "raw",
   "id": "f26b63ff-65cb-4068-b9e5-4dfaf00fdc5b",
   "metadata": {},
   "source": [
    "5. What is the purpose of the \"super\" keyword in inheritance? Provide an example\n",
    "\n",
    "Answer : The \"super\" keyword is used to call a method from the parent class (superclass) within a subclass. It is commonly used in inheritance scenarios to access methods of the superclass, allowing for code reuse and extending the functionality of the parent class."
   ]
  },
  {
   "cell_type": "code",
   "execution_count": 5,
   "id": "72ea9197-8e79-47db-91d7-ccc2a34791d3",
   "metadata": {},
   "outputs": [
    {
     "name": "stdout",
     "output_type": "stream",
     "text": [
      "Dog\n",
      "Animal makes a sound.\n",
      "Dog barks.\n",
      "Dog fetches the ball.\n"
     ]
    }
   ],
   "source": [
    "class Animal:\n",
    "    def __init__(self, species):\n",
    "        self.species = species\n",
    "\n",
    "    def make_sound(self):\n",
    "        print(\"Animal makes a sound.\")\n",
    "\n",
    "\n",
    "class Dog(Animal):\n",
    "    def __init__(self, species, breed):\n",
    "        super().__init__(species)  # Call the __init__ method of the parent class\n",
    "        self.breed = breed\n",
    "\n",
    "    def make_sound(self):\n",
    "        super().make_sound()  # Call the make_sound method of the parent class\n",
    "        print(\"Dog barks.\")\n",
    "\n",
    "    def fetch_ball(self):\n",
    "        print(\"Dog fetches the ball.\")\n",
    "\n",
    "\n",
    "# Example usage:\n",
    "dog = Dog(\"Dog\", \"Golden Retriever\")\n",
    "print(dog.species)\n",
    "dog.make_sound()\n",
    "dog.fetch_ball()"
   ]
  },
  {
   "cell_type": "raw",
   "id": "f1bbd8b1-10e5-4798-9369-a4f3341442eb",
   "metadata": {},
   "source": [
    "6. Create a base class called \"Vehicle\" with attributes like \"make\", \"model\", and \"year\".\n",
    "Then, create a derived class called \"Car\" that inherits from \"Vehicle\" and adds an\n",
    "attribute called \"fuel_type\". Implement appropriate methods in both classes."
   ]
  },
  {
   "cell_type": "code",
   "execution_count": 14,
   "id": "3a128aab-a2d4-483d-8e13-43d9ef5e203a",
   "metadata": {},
   "outputs": [],
   "source": [
    "class Vehicle:\n",
    "    def __init__(self, make, model, year):\n",
    "        self.make = make\n",
    "        self.model = model\n",
    "        self.year = year\n",
    "        \n",
    "    def display_info(self):\n",
    "        print(f\"The car model is {self.model} made in {self.year} by {self.make}\")\n",
    "        \n",
    "        \n",
    "class Car(Vehicle):\n",
    "    def __init__(self, make, model, year,fuel_type):\n",
    "        super().__init__(make,model,year)\n",
    "        self.fuel_type = fuel_type\n",
    "    \n",
    "    def engine_details(self):\n",
    "        super().display_info()\n",
    "        print(f\"The Fuel Type of the car is : {self.fuel_type}\")"
   ]
  },
  {
   "cell_type": "code",
   "execution_count": 17,
   "id": "d196cd10-26c9-47f5-938d-2a67ffbc4dac",
   "metadata": {},
   "outputs": [],
   "source": [
    "car = Car(\"Germany\", \"BMW\", \"2022\", \"Diesel Engine\")"
   ]
  },
  {
   "cell_type": "code",
   "execution_count": 18,
   "id": "9bc073b6-85e5-4e33-8dc6-63f2dcc99718",
   "metadata": {},
   "outputs": [
    {
     "name": "stdout",
     "output_type": "stream",
     "text": [
      "The car model is BMW made in 2022 by Germany\n",
      "The Fuel Type of the car is : Diesel Engine\n"
     ]
    }
   ],
   "source": [
    "car.engine_details()"
   ]
  },
  {
   "cell_type": "raw",
   "id": "7fa2cb09-98ef-4f44-82ce-78051da62804",
   "metadata": {},
   "source": [
    "7. Create a base class called \"Employee\" with attributes like \"name\" and \"salary.\"\n",
    "Derive two classes, \"Manager\" and \"Developer,\" from \"Employee.\" Add an additional\n",
    "attribute called \"department\" for the \"Manager\" class and \"programming_language\"\n",
    "for the \"Developer\" class."
   ]
  },
  {
   "cell_type": "code",
   "execution_count": 2,
   "id": "d21d9197-a2ed-4d33-8c50-1af24178f45e",
   "metadata": {},
   "outputs": [],
   "source": [
    "class Employee:\n",
    "    def __init__(self, name, salary):\n",
    "        self.name = name\n",
    "        self.salary = salary\n",
    "        \n",
    "    def display_info(self):\n",
    "        print(f\"The name of employee is {self.name} and the salary is {self.salary}\")\n",
    "              \n",
    "\n",
    "class Manager(Employee):\n",
    "    def __init__(self, name, salary, department):\n",
    "        super().__init__(name, salary)\n",
    "        self.department = department\n",
    "              \n",
    "              \n",
    "    def manager_info(self):\n",
    "        super().display_info()\n",
    "        print(f\"The employee is from {self.department} deparment\")\n",
    "              \n",
    "              \n",
    "class Developer(Employee):\n",
    "    def __init__(self, name, salary, programming_language):\n",
    "        super().__init__(name, salary)\n",
    "        self.programming_language = programming_language\n",
    "              \n",
    "              \n",
    "              \n",
    "    def Developer_info(self):\n",
    "        super().display_info()\n",
    "        print(f\"The employee {self.name} is a {self.programming_language} developer\")"
   ]
  },
  {
   "cell_type": "code",
   "execution_count": 3,
   "id": "f880362b-03f2-4491-8da6-8fc938f4eace",
   "metadata": {},
   "outputs": [],
   "source": [
    "manager=Manager(\"Mathan\", 50000,\"Finance\")"
   ]
  },
  {
   "cell_type": "code",
   "execution_count": 4,
   "id": "70e078e2-7461-46c7-ba69-b91bef6f5c89",
   "metadata": {},
   "outputs": [
    {
     "name": "stdout",
     "output_type": "stream",
     "text": [
      "The name of employee is Mathan and the salary is 50000\n",
      "The employee is from Finance deparment\n"
     ]
    }
   ],
   "source": [
    "manager.manager_info()"
   ]
  },
  {
   "cell_type": "code",
   "execution_count": 5,
   "id": "85a018df-e3c5-4b5a-be46-c173cb1da6cd",
   "metadata": {},
   "outputs": [],
   "source": [
    "developer = Developer(\"Mathan\", 50000, \"Python\")"
   ]
  },
  {
   "cell_type": "code",
   "execution_count": 6,
   "id": "0de7cc98-1d93-4232-9483-eda1a5a1fd28",
   "metadata": {},
   "outputs": [
    {
     "name": "stdout",
     "output_type": "stream",
     "text": [
      "The name of employee is Mathan and the salary is 50000\n",
      "The employee Mathan is a Python developer\n"
     ]
    }
   ],
   "source": [
    "developer.Developer_info()"
   ]
  },
  {
   "cell_type": "raw",
   "id": "e002b65b-509e-481d-8203-cf56a1237b34",
   "metadata": {},
   "source": [
    "8. Design a base class called \"Shape\" with attributes like \"colour\" and \"border_width.\"\n",
    "Create derived classes, \"Rectangle\" and \"Circle,\" that inherit from \"Shape\" and add\n",
    "specific attributes like \"length\" and \"width\" for the \"Rectangle\" class and \"radius\" for\n",
    "the \"Circle\" class."
   ]
  },
  {
   "cell_type": "code",
   "execution_count": 11,
   "id": "8cad6d96-1c30-4ade-af7d-8e235c804d16",
   "metadata": {},
   "outputs": [],
   "source": [
    "class Shape:\n",
    "    def __init__(self, colour, border_width):\n",
    "        self.colour = colour\n",
    "        self.border_width = border_width\n",
    "        \n",
    "    def obj_info(self):\n",
    "        print(f\"The Colour of the object is {self.colour} and border width is {self.border_width}\")\n",
    "        \n",
    "\n",
    "class Rectangle(Shape):\n",
    "    def __init__(self, colour, border_width, length, width):\n",
    "        super().__init__(colour, border_width)\n",
    "        self.length = length\n",
    "        self.width = width\n",
    "        \n",
    "    def Rec_info(self):\n",
    "        super().obj_info()\n",
    "        print(f\"The length of the object is {self.length} and the width is {self.width}\")\n",
    "        \n",
    "        \n",
    "class Circle(Shape):\n",
    "    def __init__(self, colour, border_width, radius):\n",
    "        super().__init__(colour, border_width)\n",
    "        self.radius = radius\n",
    "        \n",
    "    def cir_info(self):\n",
    "        super().obj_info()\n",
    "        print(f\"The radius of the circle is {self.radius}\")"
   ]
  },
  {
   "cell_type": "code",
   "execution_count": 12,
   "id": "9622da9a-5c4c-42c3-aecd-b606fa77aee3",
   "metadata": {},
   "outputs": [],
   "source": [
    "rect = Rectangle(\"Green\", 2, 4, 9)"
   ]
  },
  {
   "cell_type": "code",
   "execution_count": 13,
   "id": "1d3fbfab-59fe-4401-8cd2-9a7fa357d2b8",
   "metadata": {},
   "outputs": [
    {
     "name": "stdout",
     "output_type": "stream",
     "text": [
      "The Colour of the object is Green and border width is 2\n",
      "The length of the object is 4 and the width is 9\n"
     ]
    }
   ],
   "source": [
    "rect.Rec_info()"
   ]
  },
  {
   "cell_type": "code",
   "execution_count": 14,
   "id": "2496257c-a2d8-462a-af5c-3a989fa5a9ae",
   "metadata": {},
   "outputs": [],
   "source": [
    "cir = Circle(\"Yellow\", 3, 5)"
   ]
  },
  {
   "cell_type": "code",
   "execution_count": 15,
   "id": "e7d702d7-a856-4845-86c1-4b36049d3ec2",
   "metadata": {},
   "outputs": [
    {
     "name": "stdout",
     "output_type": "stream",
     "text": [
      "The Colour of the object is Yellow and border width is 3\n",
      "The radius of the circle is 5\n"
     ]
    }
   ],
   "source": [
    "cir.cir_info()"
   ]
  },
  {
   "cell_type": "raw",
   "id": "1a237ef0-52c9-4813-88e3-470cd0b92a37",
   "metadata": {},
   "source": [
    "9. Create a base class called \"Device\" with attributes like \"brand\" and \"model.\" Derive\n",
    "two classes, \"Phone\" and \"Tablet,\" from \"Device.\" Add specific attributes like\n",
    "\"screen_size\" for the \"Phone\" class and \"battery_capacity\" for the \"Tablet\" class."
   ]
  },
  {
   "cell_type": "code",
   "execution_count": 7,
   "id": "d01559fe-7dc8-48b0-a736-611e13ed78e0",
   "metadata": {},
   "outputs": [],
   "source": [
    "class Device:\n",
    "    def __init__(self, brand, model):\n",
    "        self.brand = brand\n",
    "        self.model = model\n",
    "        \n",
    "    def show_features(self):\n",
    "        print(f\"The brand is {self.brand} and the model is {self.model}\")\n",
    "        \n",
    "        \n",
    "class Phone(Device):\n",
    "    def __init__(self, brand, model, screen_size):\n",
    "        super().__init__(brand, model)\n",
    "        self.screen_size = screen_size\n",
    "        \n",
    "    def phone_specs(self):\n",
    "        super().show_features()\n",
    "        print(f\"The screen size of the phone is {self.screen_size}\")\n",
    "        \n",
    "        \n",
    "class Tablet(Device):\n",
    "    def __init__(self, brand, model, battery_capacity):\n",
    "        super().__init__(brand, model)\n",
    "        self.battery_capacity = battery_capacity\n",
    "        \n",
    "    def tablet_specs(self):\n",
    "        super().show_features()\n",
    "        print(f\"The battery capacity for the tablet is {self.battery_capacity}\")"
   ]
  },
  {
   "cell_type": "code",
   "execution_count": 3,
   "id": "37b63fdd-19f0-4eb2-8ffc-59e226176c29",
   "metadata": {},
   "outputs": [],
   "source": [
    "phone = Phone(\"Apple\",\"XR\", \"6.1 inch\")"
   ]
  },
  {
   "cell_type": "code",
   "execution_count": 4,
   "id": "52289af8-361d-4c1c-a860-91c480327893",
   "metadata": {},
   "outputs": [
    {
     "name": "stdout",
     "output_type": "stream",
     "text": [
      "The brand is Apple and the model is XR\n",
      "The screen size of the phone is 6.1 inch\n"
     ]
    }
   ],
   "source": [
    "phone.phone_specs()"
   ]
  },
  {
   "cell_type": "code",
   "execution_count": 9,
   "id": "003c44fc-b1ed-4291-81f7-1701127aa526",
   "metadata": {},
   "outputs": [],
   "source": [
    "tablet = Tablet(\"Apple\", \"Ipad 7\", \"5000 mAH\")"
   ]
  },
  {
   "cell_type": "code",
   "execution_count": 10,
   "id": "963ea6c5-6974-4e27-b02e-3671b68c54cf",
   "metadata": {},
   "outputs": [
    {
     "name": "stdout",
     "output_type": "stream",
     "text": [
      "The brand is Apple and the model is Ipad 7\n",
      "The battery capacity for the tablet is 5000 mAH\n"
     ]
    }
   ],
   "source": [
    "tablet.tablet_specs()"
   ]
  },
  {
   "cell_type": "raw",
   "id": "52568a26-44e4-4f9f-afb6-d1aae83b5d8a",
   "metadata": {},
   "source": [
    "10. Create a base class called \"BankAccount\" with attributes like \"account_number\" and\n",
    "\"balance.\" Derive two classes, \"SavingsAccount\" and \"CheckingAccount,\" from\n",
    "\"BankAccount.\" Add specific methods like \"calculate_interest\" for the\n",
    "\"SavingsAccount\" class and \"deduct_fees\" for the \"CheckingAccount\" class."
   ]
  },
  {
   "cell_type": "code",
   "execution_count": 28,
   "id": "84c8544c-adaa-4b2f-a285-dcd9f6d1290f",
   "metadata": {},
   "outputs": [],
   "source": [
    "class BankAccount:\n",
    "    def __init__(self, account_number, balance):\n",
    "        self.account_number = account_number\n",
    "        self.balance = balance\n",
    "        \n",
    "    def account_details(self):\n",
    "        print(f\"The account detail is account number : {self.account_number} and balance is {self.balance}\")\n",
    "        \n",
    "        \n",
    "class SavingsAccount(BankAccount):\n",
    "    def __init__(self, account_number, balance, calculate_interest):\n",
    "        super().__init__(account_number, balance)\n",
    "        self.calculate_interest = calculate_interest\n",
    "        \n",
    "    def savings_details(self):\n",
    "        super().account_details()\n",
    "        print(f\"The interest added for the saving account is {self.calculate_interest}\")\n",
    "        \n",
    "        \n",
    "class CheckingAccount(BankAccount):\n",
    "    def __init__(self, account_number, balance):\n",
    "        super().__init__(account_number, balance)\n",
    "        \n",
    "        \n",
    "    def deduct_fees(self, fees):\n",
    "        if self.balance >= fees:\n",
    "            self.balance -= fees\n",
    "            print(f\"The deducted fees is {fees}\")\n",
    "                \n",
    "        else:\n",
    "            print(f\"Insufficient balance to deduct fees\")    \n",
    "        "
   ]
  },
  {
   "cell_type": "code",
   "execution_count": 29,
   "id": "af4efa7f-d46a-448c-9e14-06f8fbc9714f",
   "metadata": {},
   "outputs": [],
   "source": [
    "savings = SavingsAccount(12345, 50000, 4)"
   ]
  },
  {
   "cell_type": "code",
   "execution_count": 30,
   "id": "53c9592e-94b0-46af-b6d2-11a378b4b590",
   "metadata": {},
   "outputs": [
    {
     "name": "stdout",
     "output_type": "stream",
     "text": [
      "The account detail is account number : 12345 and balance is 50000\n",
      "The interest added for the saving account is 4\n"
     ]
    }
   ],
   "source": [
    "savings.savings_details()"
   ]
  },
  {
   "cell_type": "code",
   "execution_count": 31,
   "id": "b691dde6-9b31-411c-9365-d49512991b67",
   "metadata": {},
   "outputs": [],
   "source": [
    "checking = CheckingAccount(12345, 50000)"
   ]
  },
  {
   "cell_type": "code",
   "execution_count": 32,
   "id": "ffc82c00-68a1-4f14-9a9f-a0dbaca48feb",
   "metadata": {},
   "outputs": [
    {
     "name": "stdout",
     "output_type": "stream",
     "text": [
      "The deducted fees is 40\n"
     ]
    }
   ],
   "source": [
    "checking.deduct_fees(40)"
   ]
  },
  {
   "cell_type": "code",
   "execution_count": null,
   "id": "f2ec1d8f-8401-4363-b3b5-c66255160938",
   "metadata": {},
   "outputs": [],
   "source": []
  }
 ],
 "metadata": {
  "kernelspec": {
   "display_name": "Python 3 (ipykernel)",
   "language": "python",
   "name": "python3"
  },
  "language_info": {
   "codemirror_mode": {
    "name": "ipython",
    "version": 3
   },
   "file_extension": ".py",
   "mimetype": "text/x-python",
   "name": "python",
   "nbconvert_exporter": "python",
   "pygments_lexer": "ipython3",
   "version": "3.10.6"
  }
 },
 "nbformat": 4,
 "nbformat_minor": 5
}
